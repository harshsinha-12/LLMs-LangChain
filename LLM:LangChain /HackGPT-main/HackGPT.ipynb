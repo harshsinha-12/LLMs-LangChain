{
  "nbformat": 4,
  "nbformat_minor": 0,
  "metadata": {
    "colab": {
      "provenance": [],
      "cell_execution_strategy": "setup",
      "mount_file_id": "1ZZdkFOCwUl2i7YMpWiKbCZlHdrxvuOw6",
      "authorship_tag": "ABX9TyP1O59K/YHKVFny9q4i42gy",
      "include_colab_link": true
    },
    "kernelspec": {
      "name": "python3",
      "display_name": "Python 3"
    },
    "language_info": {
      "name": "python"
    }
  },
  "cells": [
    {
      "cell_type": "markdown",
      "metadata": {
        "id": "view-in-github",
        "colab_type": "text"
      },
      "source": [
        "<a href=\"https://colab.research.google.com/github/harshsinha-12/HackGPT/blob/main/HackGPT.ipynb\" target=\"_parent\"><img src=\"https://colab.research.google.com/assets/colab-badge.svg\" alt=\"Open In Colab\"/></a>"
      ]
    },
    {
      "cell_type": "code",
      "source": [
        "import os\n",
        "!pip install OpenAI\n",
        "!pip install streamlit\n",
        "!pip install langchain\n",
        "import streamlit as st\n",
        "import pickle\n",
        "import time\n",
        "import langchain\n",
        "from langchain import OpenAI\n",
        "from langchain.chains import RetrievalQAWithSourcesChain\n",
        "from langchain.chains.qa_with_sources.loading import load_qa_with_sources_chain\n",
        "from langchain.text_splitter import RecursiveCharacterTextSplitter\n",
        "from langchain.document_loaders import UnstructuredURLLoader\n",
        "from langchain.embeddings import OpenAIEmbeddings\n",
        "from langchain.vectorstores import FAISS\n",
        "# Facebook AI Similarity Search\n",
        "!pip install unstructured\n",
        "!pip install tiktoken\n",
        "!pip install faiss-cpu"
      ],
      "metadata": {
        "id": "tPDRwLX6ZJuh"
      },
      "execution_count": null,
      "outputs": []
    },
    {
      "cell_type": "code",
      "source": [
        "os.environ['OPENAI_API_KEY'] = \"sk-\" #Enter your OPENAI API KEY"
      ],
      "metadata": {
        "id": "B2hVZbodaPhv"
      },
      "execution_count": null,
      "outputs": []
    },
    {
      "cell_type": "code",
      "source": [
        "# Initialise LLM with required paramerters\n",
        "\n",
        "llm = OpenAI(temperature = 0.9, max_tokens = 1000)\n",
        "\n",
        "loaders = UnstructuredURLLoader(\n",
        "    urls = [\"https://www.livemint.com/market/stock-market-news/nifty-50-sensex-today-what-to-expect-from-stock-market-indices-in-trade-on-october-27-11698372233576.html\"])\n",
        "data = loaders.load() #News Article Link"
      ],
      "metadata": {
        "id": "vgdgS33vaZ9g"
      },
      "execution_count": null,
      "outputs": []
    },
    {
      "cell_type": "code",
      "source": [
        "text_splitter = RecursiveCharacterTextSplitter(\n",
        "    chunk_size = 1000,\n",
        "    chunk_overlap = 200\n",
        ")\n",
        "\n",
        "# As data is of type documents we can directly use split_docs over split_text\n",
        "\n",
        "docs = text_splitter.split_documents(data)"
      ],
      "metadata": {
        "id": "0tW9C28Rah-A"
      },
      "execution_count": null,
      "outputs": []
    },
    {
      "cell_type": "code",
      "source": [
        "embeddings = OpenAIEmbeddings()\n",
        "vectorindex_openai = FAISS.from_documents(docs, embeddings)"
      ],
      "metadata": {
        "id": "etwrYrdtarVg"
      },
      "execution_count": null,
      "outputs": []
    },
    {
      "cell_type": "code",
      "source": [
        "# Starting vector index create in local\n",
        "\n",
        "file_path = \"/content/drive/MyDrive/Data Sets for Data Visualisation/faiss_store_openai.pkl\"\n",
        "with open(file_path, \"wb\") as f:\n",
        "  pickle.dump(vectorindex_openai, f)"
      ],
      "metadata": {
        "id": "yWmqLO4Tatqt"
      },
      "execution_count": null,
      "outputs": []
    },
    {
      "cell_type": "code",
      "source": [
        "if os.path.exists(file_path):\n",
        "  with open(file_path, \"rb\") as f:\n",
        "    vectorIndex = pickle.load(f)"
      ],
      "metadata": {
        "id": "E8iI2auPa5ZC"
      },
      "execution_count": null,
      "outputs": []
    },
    {
      "cell_type": "code",
      "source": [
        "chain = RetrievalQAWithSourcesChain.from_llm(llm = llm, retriever = vectorIndex.as_retriever())"
      ],
      "metadata": {
        "id": "eBtqC9C2a6P7"
      },
      "execution_count": null,
      "outputs": []
    },
    {
      "cell_type": "code",
      "source": [
        "query = \"What to expect from Nifty 50 today?\"\n",
        "\n",
        "langchain.debug = True\n",
        "\n",
        "chain({\"question\" : query}, return_only_outputs = True)\n",
        "\n",
        "#each chunk in seperate llm"
      ],
      "metadata": {
        "colab": {
          "base_uri": "https://localhost:8080/"
        },
        "id": "XcLpUkgcbLb7",
        "outputId": "9f6d5592-43db-47f4-ccb8-c2af41025ff3"
      },
      "execution_count": null,
      "outputs": [
        {
          "output_type": "stream",
          "name": "stdout",
          "text": [
            "\u001b[32;1m\u001b[1;3m[chain/start]\u001b[0m \u001b[1m[1:chain:RetrievalQAWithSourcesChain] Entering Chain run with input:\n",
            "\u001b[0m{\n",
            "  \"question\": \"What to expect from Nifty 50 today?\"\n",
            "}\n",
            "\u001b[32;1m\u001b[1;3m[chain/start]\u001b[0m \u001b[1m[1:chain:RetrievalQAWithSourcesChain > 3:chain:MapReduceDocumentsChain] Entering Chain run with input:\n",
            "\u001b[0m[inputs]\n",
            "\u001b[32;1m\u001b[1;3m[chain/start]\u001b[0m \u001b[1m[1:chain:RetrievalQAWithSourcesChain > 3:chain:MapReduceDocumentsChain > 4:chain:LLMChain] Entering Chain run with input:\n",
            "\u001b[0m{\n",
            "  \"input_list\": [\n",
            "    {\n",
            "      \"context\": \"He believes the short-term trend of Nifty 50 continues to be negative. However, having moved into the oversold region, there is a chance of upside bounce occurring from the lows.\\n\\n(Exciting news! Mint is now on WhatsApp Channels  Subscribe today by clicking the link and stay updated with the latest financial insights! Click here!)\\n\\nHere’s what to expect from Nifty and Sensex today:\\n\\nNifty 50\\n\\nThe Nifty 50 index slipped below 19,000 for the first time in four months, indicating a rising bearish condition.\\n\\n“The bearish crossover in the momentum indicator also supports the negative momentum. In the current scenario, supports are appearing very fragile and vulnerable. Despite the recent sharp decline, further correction from the current level seems highly possible,\\\" said Rupak De, Senior Technical analyst at LKP Securities.\\n\\nAccording to him, support on the lower end is visible at 18,600-18,645, while resistance is positioned at 18,950-19,000.\",\n",
            "      \"question\": \"What to expect from Nifty 50 today?\"\n",
            "    },\n",
            "    {\n",
            "      \"context\": \"Premium Nifty 50 formed a long bear candle on the daily chart with a gap down opening. (Photo: ANI)\\n\\nRead Full Story\\n\\nThe Indian stock market indices, Nifty 50 and Sensex, are likely to see a tepid opening on Friday amid mixed global cues.\\n\\nThe trends on Gift Nifty also indicate a flat start for the Indian benchmark index. The Gift Nifty was trading around 18,975 level as compared to the Nifty futures’ previous close of 18,965.\\n\\nThe domestic equity indices continued its losing spree for the sixth consecutive session on October 26 with the Nifty 50 hitting a 200-day EMA (exponential moving average) for the first time since April this year.\\n\\nThe Sensex plunged 900.91 points to 63,148.15, while broader Nifty 50 tanked 264.90 points, or 1.39%, to 18,857.25, on Thursday.\\n\\nNifty 50 formed a long bear candle on the daily chart with a gap down opening.\",\n",
            "      \"question\": \"What to expect from Nifty 50 today?\"\n",
            "    },\n",
            "    {\n",
            "      \"context\": \"Nifty 50 formed a long bear candle on the daily chart with a gap down opening.\\n\\n“One may observe three long bear candles in the last three sessions, which is indicating a bearish three black crows’ pattern, signaling a down trend continuation pattern for the short term,\\\" said Nagaraj Shetti, Technical Research Analyst, HDFC Securities.\\n\\nAlso Read: 6 things that changed for the stock market overnight - Gift Nifty, US GDP growth to corporate earnings\\n\\nNifty is currently placed at the support of 200 day EMA for the first time since past April 2023.\\n\\n“Though, Nifty is placed at the key moving average supports, still there is no indication of any reversal pattern building up at the lows. The negative pattern like lower tops and bottoms of larger degree is intact on the daily chart and the market finding support to form a new lower bottom of the sequence. Still there is no indication of any bottom formation at the lows,\\\" said Shetti.\",\n",
            "      \"question\": \"What to expect from Nifty 50 today?\"\n",
            "    },\n",
            "    {\n",
            "      \"context\": \"Fri Oct 27 2023 15:21:04\\n\\nTata Steel share price  119.95  0.04%\\n\\nPower Grid Corporation Of India share price  201  1.03%\\n\\nHDFC Bank share price  1,469.9  0.44%\\n\\nICICI Bank share price  911.95  0.31%\\n\\nTata Motors share price  640.3  2.21%\\n\\nBusiness News/\\n\\nMarkets /\\n\\nStock Markets/  Nifty 50, Sensex today: What to expect from stock market indices in trade on October 27\\n\\nHDFC Bank Share Price\\n    Reliance Industries Share Price\\n    TCS Share Price\\n    Infosys Share Price\\n    HUL Share Price\\n\\nBack\\n\\nShare Via\\n\\nNifty 50, Sensex today: What to expect from stock market indices in trade on October 27\\n\\n2 min read  \\n27 Oct 2023, 07:44 AM IST\\n\\nJoin us\\n\\nLivemint\\n\\n,Edited By Ankit Gohel\\n\\nThe trends on Gift Nifty also indicate a flat start for the Indian benchmark index. The Gift Nifty was trading around 18,975 level as compared to the Nifty futures’ previous close of 18,965.\\n\\nPremium Nifty 50 formed a long bear candle on the daily chart with a gap down opening. (Photo: ANI)\\n\\nRead Full Story\",\n",
            "      \"question\": \"What to expect from Nifty 50 today?\"\n",
            "    }\n",
            "  ]\n",
            "}\n",
            "\u001b[32;1m\u001b[1;3m[llm/start]\u001b[0m \u001b[1m[1:chain:RetrievalQAWithSourcesChain > 3:chain:MapReduceDocumentsChain > 4:chain:LLMChain > 5:llm:OpenAI] Entering LLM run with input:\n",
            "\u001b[0m{\n",
            "  \"prompts\": [\n",
            "    \"Use the following portion of a long document to see if any of the text is relevant to answer the question. \\nReturn any relevant text verbatim.\\nHe believes the short-term trend of Nifty 50 continues to be negative. However, having moved into the oversold region, there is a chance of upside bounce occurring from the lows.\\n\\n(Exciting news! Mint is now on WhatsApp Channels  Subscribe today by clicking the link and stay updated with the latest financial insights! Click here!)\\n\\nHere’s what to expect from Nifty and Sensex today:\\n\\nNifty 50\\n\\nThe Nifty 50 index slipped below 19,000 for the first time in four months, indicating a rising bearish condition.\\n\\n“The bearish crossover in the momentum indicator also supports the negative momentum. In the current scenario, supports are appearing very fragile and vulnerable. Despite the recent sharp decline, further correction from the current level seems highly possible,\\\" said Rupak De, Senior Technical analyst at LKP Securities.\\n\\nAccording to him, support on the lower end is visible at 18,600-18,645, while resistance is positioned at 18,950-19,000.\\nQuestion: What to expect from Nifty 50 today?\\nRelevant text, if any:\"\n",
            "  ]\n",
            "}\n",
            "\u001b[32;1m\u001b[1;3m[llm/start]\u001b[0m \u001b[1m[1:chain:RetrievalQAWithSourcesChain > 3:chain:MapReduceDocumentsChain > 4:chain:LLMChain > 6:llm:OpenAI] Entering LLM run with input:\n",
            "\u001b[0m{\n",
            "  \"prompts\": [\n",
            "    \"Use the following portion of a long document to see if any of the text is relevant to answer the question. \\nReturn any relevant text verbatim.\\nPremium Nifty 50 formed a long bear candle on the daily chart with a gap down opening. (Photo: ANI)\\n\\nRead Full Story\\n\\nThe Indian stock market indices, Nifty 50 and Sensex, are likely to see a tepid opening on Friday amid mixed global cues.\\n\\nThe trends on Gift Nifty also indicate a flat start for the Indian benchmark index. The Gift Nifty was trading around 18,975 level as compared to the Nifty futures’ previous close of 18,965.\\n\\nThe domestic equity indices continued its losing spree for the sixth consecutive session on October 26 with the Nifty 50 hitting a 200-day EMA (exponential moving average) for the first time since April this year.\\n\\nThe Sensex plunged 900.91 points to 63,148.15, while broader Nifty 50 tanked 264.90 points, or 1.39%, to 18,857.25, on Thursday.\\n\\nNifty 50 formed a long bear candle on the daily chart with a gap down opening.\\nQuestion: What to expect from Nifty 50 today?\\nRelevant text, if any:\"\n",
            "  ]\n",
            "}\n",
            "\u001b[32;1m\u001b[1;3m[llm/start]\u001b[0m \u001b[1m[1:chain:RetrievalQAWithSourcesChain > 3:chain:MapReduceDocumentsChain > 4:chain:LLMChain > 7:llm:OpenAI] Entering LLM run with input:\n",
            "\u001b[0m{\n",
            "  \"prompts\": [\n",
            "    \"Use the following portion of a long document to see if any of the text is relevant to answer the question. \\nReturn any relevant text verbatim.\\nNifty 50 formed a long bear candle on the daily chart with a gap down opening.\\n\\n“One may observe three long bear candles in the last three sessions, which is indicating a bearish three black crows’ pattern, signaling a down trend continuation pattern for the short term,\\\" said Nagaraj Shetti, Technical Research Analyst, HDFC Securities.\\n\\nAlso Read: 6 things that changed for the stock market overnight - Gift Nifty, US GDP growth to corporate earnings\\n\\nNifty is currently placed at the support of 200 day EMA for the first time since past April 2023.\\n\\n“Though, Nifty is placed at the key moving average supports, still there is no indication of any reversal pattern building up at the lows. The negative pattern like lower tops and bottoms of larger degree is intact on the daily chart and the market finding support to form a new lower bottom of the sequence. Still there is no indication of any bottom formation at the lows,\\\" said Shetti.\\nQuestion: What to expect from Nifty 50 today?\\nRelevant text, if any:\"\n",
            "  ]\n",
            "}\n",
            "\u001b[32;1m\u001b[1;3m[llm/start]\u001b[0m \u001b[1m[1:chain:RetrievalQAWithSourcesChain > 3:chain:MapReduceDocumentsChain > 4:chain:LLMChain > 8:llm:OpenAI] Entering LLM run with input:\n",
            "\u001b[0m{\n",
            "  \"prompts\": [\n",
            "    \"Use the following portion of a long document to see if any of the text is relevant to answer the question. \\nReturn any relevant text verbatim.\\nFri Oct 27 2023 15:21:04\\n\\nTata Steel share price  119.95  0.04%\\n\\nPower Grid Corporation Of India share price  201  1.03%\\n\\nHDFC Bank share price  1,469.9  0.44%\\n\\nICICI Bank share price  911.95  0.31%\\n\\nTata Motors share price  640.3  2.21%\\n\\nBusiness News/\\n\\nMarkets /\\n\\nStock Markets/  Nifty 50, Sensex today: What to expect from stock market indices in trade on October 27\\n\\nHDFC Bank Share Price\\n    Reliance Industries Share Price\\n    TCS Share Price\\n    Infosys Share Price\\n    HUL Share Price\\n\\nBack\\n\\nShare Via\\n\\nNifty 50, Sensex today: What to expect from stock market indices in trade on October 27\\n\\n2 min read  \\n27 Oct 2023, 07:44 AM IST\\n\\nJoin us\\n\\nLivemint\\n\\n,Edited By Ankit Gohel\\n\\nThe trends on Gift Nifty also indicate a flat start for the Indian benchmark index. The Gift Nifty was trading around 18,975 level as compared to the Nifty futures’ previous close of 18,965.\\n\\nPremium Nifty 50 formed a long bear candle on the daily chart with a gap down opening. (Photo: ANI)\\n\\nRead Full Story\\nQuestion: What to expect from Nifty 50 today?\\nRelevant text, if any:\"\n",
            "  ]\n",
            "}\n",
            "\u001b[36;1m\u001b[1;3m[llm/end]\u001b[0m \u001b[1m[1:chain:RetrievalQAWithSourcesChain > 3:chain:MapReduceDocumentsChain > 4:chain:LLMChain > 5:llm:OpenAI] [2.48s] Exiting LLM run with output:\n",
            "\u001b[0m{\n",
            "  \"generations\": [\n",
            "    [\n",
            "      {\n",
            "        \"text\": \"\\nThe Nifty 50 index slipped below 19,000 for the first time in four months, indicating a rising bearish condition. “The bearish crossover in the momentum indicator also supports the negative momentum. In the current scenario, supports are appearing very fragile and vulnerable. Despite the recent sharp decline, further correction from the current level seems highly possible,\\\" said Rupak De, Senior Technical analyst at LKP Securities. According to him, support on the lower end is visible at 18,600-18,645, while resistance is positioned at 18,950-19,000.\",\n",
            "        \"generation_info\": {\n",
            "          \"finish_reason\": \"stop\",\n",
            "          \"logprobs\": null\n",
            "        },\n",
            "        \"type\": \"Generation\"\n",
            "      }\n",
            "    ]\n",
            "  ],\n",
            "  \"llm_output\": {\n",
            "    \"token_usage\": {\n",
            "      \"completion_tokens\": 347,\n",
            "      \"total_tokens\": 1505,\n",
            "      \"prompt_tokens\": 1158\n",
            "    },\n",
            "    \"model_name\": \"text-davinci-003\"\n",
            "  },\n",
            "  \"run\": null\n",
            "}\n",
            "\u001b[36;1m\u001b[1;3m[llm/end]\u001b[0m \u001b[1m[1:chain:RetrievalQAWithSourcesChain > 3:chain:MapReduceDocumentsChain > 4:chain:LLMChain > 6:llm:OpenAI] [2.48s] Exiting LLM run with output:\n",
            "\u001b[0m{\n",
            "  \"generations\": [\n",
            "    [\n",
            "      {\n",
            "        \"text\": \" The Gift Nifty was trading around 18,975 level as compared to the Nifty futures’ previous close of 18,965. The trends on Gift Nifty also indicate a flat start for the Indian benchmark index.\",\n",
            "        \"generation_info\": {\n",
            "          \"finish_reason\": \"stop\",\n",
            "          \"logprobs\": null\n",
            "        },\n",
            "        \"type\": \"Generation\"\n",
            "      }\n",
            "    ]\n",
            "  ],\n",
            "  \"llm_output\": {\n",
            "    \"token_usage\": {},\n",
            "    \"model_name\": \"text-davinci-003\"\n",
            "  },\n",
            "  \"run\": null\n",
            "}\n",
            "\u001b[36;1m\u001b[1;3m[llm/end]\u001b[0m \u001b[1m[1:chain:RetrievalQAWithSourcesChain > 3:chain:MapReduceDocumentsChain > 4:chain:LLMChain > 7:llm:OpenAI] [2.48s] Exiting LLM run with output:\n",
            "\u001b[0m{\n",
            "  \"generations\": [\n",
            "    [\n",
            "      {\n",
            "        \"text\": \" “Though, Nifty is placed at the key moving average supports, still there is no indication of any reversal pattern building up at the lows. The negative pattern like lower tops and bottoms of larger degree is intact on the daily chart and the market finding support to form a new lower bottom of the sequence. Still there is no indication of any bottom formation at the lows,\\\" said Shetti.\",\n",
            "        \"generation_info\": {\n",
            "          \"finish_reason\": \"stop\",\n",
            "          \"logprobs\": null\n",
            "        },\n",
            "        \"type\": \"Generation\"\n",
            "      }\n",
            "    ]\n",
            "  ],\n",
            "  \"llm_output\": {\n",
            "    \"token_usage\": {},\n",
            "    \"model_name\": \"text-davinci-003\"\n",
            "  },\n",
            "  \"run\": null\n",
            "}\n",
            "\u001b[36;1m\u001b[1;3m[llm/end]\u001b[0m \u001b[1m[1:chain:RetrievalQAWithSourcesChain > 3:chain:MapReduceDocumentsChain > 4:chain:LLMChain > 8:llm:OpenAI] [2.48s] Exiting LLM run with output:\n",
            "\u001b[0m{\n",
            "  \"generations\": [\n",
            "    [\n",
            "      {\n",
            "        \"text\": \"\\n\\\"Nifty 50, Sensex today: What to expect from stock market indices in trade on October 27\\n2 min read\\n27 Oct 2023, 07:44 AM IST\\nThe trends on Gift Nifty also indicate a flat start for the Indian benchmark index. The Gift Nifty was trading around 18,975 level as compared to the Nifty futures’ previous close of 18,965.\\nPremium Nifty 50 formed a long bear candle on the daily chart with a gap down opening.\\\"\",\n",
            "        \"generation_info\": {\n",
            "          \"finish_reason\": \"stop\",\n",
            "          \"logprobs\": null\n",
            "        },\n",
            "        \"type\": \"Generation\"\n",
            "      }\n",
            "    ]\n",
            "  ],\n",
            "  \"llm_output\": {\n",
            "    \"token_usage\": {},\n",
            "    \"model_name\": \"text-davinci-003\"\n",
            "  },\n",
            "  \"run\": null\n",
            "}\n",
            "\u001b[36;1m\u001b[1;3m[chain/end]\u001b[0m \u001b[1m[1:chain:RetrievalQAWithSourcesChain > 3:chain:MapReduceDocumentsChain > 4:chain:LLMChain] [2.48s] Exiting Chain run with output:\n",
            "\u001b[0m{\n",
            "  \"outputs\": [\n",
            "    {\n",
            "      \"text\": \"\\nThe Nifty 50 index slipped below 19,000 for the first time in four months, indicating a rising bearish condition. “The bearish crossover in the momentum indicator also supports the negative momentum. In the current scenario, supports are appearing very fragile and vulnerable. Despite the recent sharp decline, further correction from the current level seems highly possible,\\\" said Rupak De, Senior Technical analyst at LKP Securities. According to him, support on the lower end is visible at 18,600-18,645, while resistance is positioned at 18,950-19,000.\"\n",
            "    },\n",
            "    {\n",
            "      \"text\": \" The Gift Nifty was trading around 18,975 level as compared to the Nifty futures’ previous close of 18,965. The trends on Gift Nifty also indicate a flat start for the Indian benchmark index.\"\n",
            "    },\n",
            "    {\n",
            "      \"text\": \" “Though, Nifty is placed at the key moving average supports, still there is no indication of any reversal pattern building up at the lows. The negative pattern like lower tops and bottoms of larger degree is intact on the daily chart and the market finding support to form a new lower bottom of the sequence. Still there is no indication of any bottom formation at the lows,\\\" said Shetti.\"\n",
            "    },\n",
            "    {\n",
            "      \"text\": \"\\n\\\"Nifty 50, Sensex today: What to expect from stock market indices in trade on October 27\\n2 min read\\n27 Oct 2023, 07:44 AM IST\\nThe trends on Gift Nifty also indicate a flat start for the Indian benchmark index. The Gift Nifty was trading around 18,975 level as compared to the Nifty futures’ previous close of 18,965.\\nPremium Nifty 50 formed a long bear candle on the daily chart with a gap down opening.\\\"\"\n",
            "    }\n",
            "  ]\n",
            "}\n",
            "\u001b[32;1m\u001b[1;3m[chain/start]\u001b[0m \u001b[1m[1:chain:RetrievalQAWithSourcesChain > 3:chain:MapReduceDocumentsChain > 9:chain:LLMChain] Entering Chain run with input:\n",
            "\u001b[0m{\n",
            "  \"question\": \"What to expect from Nifty 50 today?\",\n",
            "  \"summaries\": \"Content: \\nThe Nifty 50 index slipped below 19,000 for the first time in four months, indicating a rising bearish condition. “The bearish crossover in the momentum indicator also supports the negative momentum. In the current scenario, supports are appearing very fragile and vulnerable. Despite the recent sharp decline, further correction from the current level seems highly possible,\\\" said Rupak De, Senior Technical analyst at LKP Securities. According to him, support on the lower end is visible at 18,600-18,645, while resistance is positioned at 18,950-19,000.\\nSource: https://www.livemint.com/market/stock-market-news/nifty-50-sensex-today-what-to-expect-from-stock-market-indices-in-trade-on-october-27-11698372233576.html\\n\\nContent:  The Gift Nifty was trading around 18,975 level as compared to the Nifty futures’ previous close of 18,965. The trends on Gift Nifty also indicate a flat start for the Indian benchmark index.\\nSource: https://www.livemint.com/market/stock-market-news/nifty-50-sensex-today-what-to-expect-from-stock-market-indices-in-trade-on-october-27-11698372233576.html\\n\\nContent:  “Though, Nifty is placed at the key moving average supports, still there is no indication of any reversal pattern building up at the lows. The negative pattern like lower tops and bottoms of larger degree is intact on the daily chart and the market finding support to form a new lower bottom of the sequence. Still there is no indication of any bottom formation at the lows,\\\" said Shetti.\\nSource: https://www.livemint.com/market/stock-market-news/nifty-50-sensex-today-what-to-expect-from-stock-market-indices-in-trade-on-october-27-11698372233576.html\\n\\nContent: \\n\\\"Nifty 50, Sensex today: What to expect from stock market indices in trade on October 27\\n2 min read\\n27 Oct 2023, 07:44 AM IST\\nThe trends on Gift Nifty also indicate a flat start for the Indian benchmark index. The Gift Nifty was trading around 18,975 level as compared to the Nifty futures’ previous close of 18,965.\\nPremium Nifty 50 formed a long bear candle on the daily chart with a gap down opening.\\\"\\nSource: https://www.livemint.com/market/stock-market-news/nifty-50-sensex-today-what-to-expect-from-stock-market-indices-in-trade-on-october-27-11698372233576.html\"\n",
            "}\n",
            "\u001b[32;1m\u001b[1;3m[llm/start]\u001b[0m \u001b[1m[1:chain:RetrievalQAWithSourcesChain > 3:chain:MapReduceDocumentsChain > 9:chain:LLMChain > 10:llm:OpenAI] Entering LLM run with input:\n",
            "\u001b[0m{\n",
            "  \"prompts\": [\n",
            "    \"Given the following extracted parts of a long document and a question, create a final answer with references (\\\"SOURCES\\\"). \\nIf you don't know the answer, just say that you don't know. Don't try to make up an answer.\\nALWAYS return a \\\"SOURCES\\\" part in your answer.\\n\\nQUESTION: Which state/country's law governs the interpretation of the contract?\\n=========\\nContent: This Agreement is governed by English law and the parties submit to the exclusive jurisdiction of the English courts in  relation to any dispute (contractual or non-contractual) concerning this Agreement save that either party may apply to any court for an  injunction or other relief to protect its Intellectual Property Rights.\\nSource: 28-pl\\nContent: No Waiver. Failure or delay in exercising any right or remedy under this Agreement shall not constitute a waiver of such (or any other)  right or remedy.\\n\\n11.7 Severability. The invalidity, illegality or unenforceability of any term (or part of a term) of this Agreement shall not affect the continuation  in force of the remainder of the term (if any) and this Agreement.\\n\\n11.8 No Agency. Except as expressly stated otherwise, nothing in this Agreement shall create an agency, partnership or joint venture of any  kind between the parties.\\n\\n11.9 No Third-Party Beneficiaries.\\nSource: 30-pl\\nContent: (b) if Google believes, in good faith, that the Distributor has violated or caused Google to violate any Anti-Bribery Laws (as  defined in Clause 8.5) or that such a violation is reasonably likely to occur,\\nSource: 4-pl\\n=========\\nFINAL ANSWER: This Agreement is governed by English law.\\nSOURCES: 28-pl\\n\\nQUESTION: What did the president say about Michael Jackson?\\n=========\\nContent: Madam Speaker, Madam Vice President, our First Lady and Second Gentleman. Members of Congress and the Cabinet. Justices of the Supreme Court. My fellow Americans.  \\n\\nLast year COVID-19 kept us apart. This year we are finally together again. \\n\\nTonight, we meet as Democrats Republicans and Independents. But most importantly as Americans. \\n\\nWith a duty to one another to the American people to the Constitution. \\n\\nAnd with an unwavering resolve that freedom will always triumph over tyranny. \\n\\nSix days ago, Russia’s Vladimir Putin sought to shake the foundations of the free world thinking he could make it bend to his menacing ways. But he badly miscalculated. \\n\\nHe thought he could roll into Ukraine and the world would roll over. Instead he met a wall of strength he never imagined. \\n\\nHe met the Ukrainian people. \\n\\nFrom President Zelenskyy to every Ukrainian, their fearlessness, their courage, their determination, inspires the world. \\n\\nGroups of citizens blocking tanks with their bodies. Everyone from students to retirees teachers turned soldiers defending their homeland.\\nSource: 0-pl\\nContent: And we won’t stop. \\n\\nWe have lost so much to COVID-19. Time with one another. And worst of all, so much loss of life. \\n\\nLet’s use this moment to reset. Let’s stop looking at COVID-19 as a partisan dividing line and see it for what it is: A God-awful disease.  \\n\\nLet’s stop seeing each other as enemies, and start seeing each other for who we really are: Fellow Americans.  \\n\\nWe can’t change how divided we’ve been. But we can change how we move forward—on COVID-19 and other issues we must face together. \\n\\nI recently visited the New York City Police Department days after the funerals of Officer Wilbert Mora and his partner, Officer Jason Rivera. \\n\\nThey were responding to a 9-1-1 call when a man shot and killed them with a stolen gun. \\n\\nOfficer Mora was 27 years old. \\n\\nOfficer Rivera was 22. \\n\\nBoth Dominican Americans who’d grown up on the same streets they later chose to patrol as police officers. \\n\\nI spoke with their families and told them that we are forever in debt for their sacrifice, and we will carry on their mission to restore the trust and safety every community deserves.\\nSource: 24-pl\\nContent: And a proud Ukrainian people, who have known 30 years  of independence, have repeatedly shown that they will not tolerate anyone who tries to take their country backwards.  \\n\\nTo all Americans, I will be honest with you, as I’ve always promised. A Russian dictator, invading a foreign country, has costs around the world. \\n\\nAnd I’m taking robust action to make sure the pain of our sanctions  is targeted at Russia’s economy. And I will use every tool at our disposal to protect American businesses and consumers. \\n\\nTonight, I can announce that the United States has worked with 30 other countries to release 60 Million barrels of oil from reserves around the world.  \\n\\nAmerica will lead that effort, releasing 30 Million barrels from our own Strategic Petroleum Reserve. And we stand ready to do more if necessary, unified with our allies.  \\n\\nThese steps will help blunt gas prices here at home. And I know the news about what’s happening can seem alarming. \\n\\nBut I want you to know that we are going to be okay.\\nSource: 5-pl\\nContent: More support for patients and families. \\n\\nTo get there, I call on Congress to fund ARPA-H, the Advanced Research Projects Agency for Health. \\n\\nIt’s based on DARPA—the Defense Department project that led to the Internet, GPS, and so much more.  \\n\\nARPA-H will have a singular purpose—to drive breakthroughs in cancer, Alzheimer’s, diabetes, and more. \\n\\nA unity agenda for the nation. \\n\\nWe can do this. \\n\\nMy fellow Americans—tonight , we have gathered in a sacred space—the citadel of our democracy. \\n\\nIn this Capitol, generation after generation, Americans have debated great questions amid great strife, and have done great things. \\n\\nWe have fought for freedom, expanded liberty, defeated totalitarianism and terror. \\n\\nAnd built the strongest, freest, and most prosperous nation the world has ever known. \\n\\nNow is the hour. \\n\\nOur moment of responsibility. \\n\\nOur test of resolve and conscience, of history itself. \\n\\nIt is in this moment that our character is formed. Our purpose is found. Our future is forged. \\n\\nWell I know this nation.\\nSource: 34-pl\\n=========\\nFINAL ANSWER: The president did not mention Michael Jackson.\\nSOURCES:\\n\\nQUESTION: What to expect from Nifty 50 today?\\n=========\\nContent: \\nThe Nifty 50 index slipped below 19,000 for the first time in four months, indicating a rising bearish condition. “The bearish crossover in the momentum indicator also supports the negative momentum. In the current scenario, supports are appearing very fragile and vulnerable. Despite the recent sharp decline, further correction from the current level seems highly possible,\\\" said Rupak De, Senior Technical analyst at LKP Securities. According to him, support on the lower end is visible at 18,600-18,645, while resistance is positioned at 18,950-19,000.\\nSource: https://www.livemint.com/market/stock-market-news/nifty-50-sensex-today-what-to-expect-from-stock-market-indices-in-trade-on-october-27-11698372233576.html\\n\\nContent:  The Gift Nifty was trading around 18,975 level as compared to the Nifty futures’ previous close of 18,965. The trends on Gift Nifty also indicate a flat start for the Indian benchmark index.\\nSource: https://www.livemint.com/market/stock-market-news/nifty-50-sensex-today-what-to-expect-from-stock-market-indices-in-trade-on-october-27-11698372233576.html\\n\\nContent:  “Though, Nifty is placed at the key moving average supports, still there is no indication of any reversal pattern building up at the lows. The negative pattern like lower tops and bottoms of larger degree is intact on the daily chart and the market finding support to form a new lower bottom of the sequence. Still there is no indication of any bottom formation at the lows,\\\" said Shetti.\\nSource: https://www.livemint.com/market/stock-market-news/nifty-50-sensex-today-what-to-expect-from-stock-market-indices-in-trade-on-october-27-11698372233576.html\\n\\nContent: \\n\\\"Nifty 50, Sensex today: What to expect from stock market indices in trade on October 27\\n2 min read\\n27 Oct 2023, 07:44 AM IST\\nThe trends on Gift Nifty also indicate a flat start for the Indian benchmark index. The Gift Nifty was trading around 18,975 level as compared to the Nifty futures’ previous close of 18,965.\\nPremium Nifty 50 formed a long bear candle on the daily chart with a gap down opening.\\\"\\nSource: https://www.livemint.com/market/stock-market-news/nifty-50-sensex-today-what-to-expect-from-stock-market-indices-in-trade-on-october-27-11698372233576.html\\n=========\\nFINAL ANSWER:\"\n",
            "  ]\n",
            "}\n",
            "\u001b[36;1m\u001b[1;3m[llm/end]\u001b[0m \u001b[1m[1:chain:RetrievalQAWithSourcesChain > 3:chain:MapReduceDocumentsChain > 9:chain:LLMChain > 10:llm:OpenAI] [2.57s] Exiting LLM run with output:\n",
            "\u001b[0m{\n",
            "  \"generations\": [\n",
            "    [\n",
            "      {\n",
            "        \"text\": \" Based on analysis from market experts, it is expected that the Nifty 50 index will start with a flat opening and further corrections are possible from the current level.\\nSOURCES: https://www.livemint.com/market/stock-market-news/nifty-50-sensex-today-what-to-expect-from-stock-market-indices-in-trade-on-october-27-11698372233576.html\",\n",
            "        \"generation_info\": {\n",
            "          \"finish_reason\": \"stop\",\n",
            "          \"logprobs\": null\n",
            "        },\n",
            "        \"type\": \"Generation\"\n",
            "      }\n",
            "    ]\n",
            "  ],\n",
            "  \"llm_output\": {\n",
            "    \"token_usage\": {\n",
            "      \"completion_tokens\": 100,\n",
            "      \"total_tokens\": 2236,\n",
            "      \"prompt_tokens\": 2136\n",
            "    },\n",
            "    \"model_name\": \"text-davinci-003\"\n",
            "  },\n",
            "  \"run\": null\n",
            "}\n",
            "\u001b[36;1m\u001b[1;3m[chain/end]\u001b[0m \u001b[1m[1:chain:RetrievalQAWithSourcesChain > 3:chain:MapReduceDocumentsChain > 9:chain:LLMChain] [2.57s] Exiting Chain run with output:\n",
            "\u001b[0m{\n",
            "  \"text\": \" Based on analysis from market experts, it is expected that the Nifty 50 index will start with a flat opening and further corrections are possible from the current level.\\nSOURCES: https://www.livemint.com/market/stock-market-news/nifty-50-sensex-today-what-to-expect-from-stock-market-indices-in-trade-on-october-27-11698372233576.html\"\n",
            "}\n",
            "\u001b[36;1m\u001b[1;3m[chain/end]\u001b[0m \u001b[1m[1:chain:RetrievalQAWithSourcesChain > 3:chain:MapReduceDocumentsChain] [5.06s] Exiting Chain run with output:\n",
            "\u001b[0m{\n",
            "  \"output_text\": \" Based on analysis from market experts, it is expected that the Nifty 50 index will start with a flat opening and further corrections are possible from the current level.\\nSOURCES: https://www.livemint.com/market/stock-market-news/nifty-50-sensex-today-what-to-expect-from-stock-market-indices-in-trade-on-october-27-11698372233576.html\"\n",
            "}\n",
            "\u001b[36;1m\u001b[1;3m[chain/end]\u001b[0m \u001b[1m[1:chain:RetrievalQAWithSourcesChain] [5.33s] Exiting Chain run with output:\n",
            "\u001b[0m{\n",
            "  \"answer\": \" Based on analysis from market experts, it is expected that the Nifty 50 index will start with a flat opening and further corrections are possible from the current level.\\n\",\n",
            "  \"sources\": \"https://www.livemint.com/market/stock-market-news/nifty-50-sensex-today-what-to-expect-from-stock-market-indices-in-trade-on-october-27-11698372233576.html\"\n",
            "}\n"
          ]
        },
        {
          "output_type": "execute_result",
          "data": {
            "text/plain": [
              "{'answer': ' Based on analysis from market experts, it is expected that the Nifty 50 index will start with a flat opening and further corrections are possible from the current level.\\n',\n",
              " 'sources': 'https://www.livemint.com/market/stock-market-news/nifty-50-sensex-today-what-to-expect-from-stock-market-indices-in-trade-on-october-27-11698372233576.html'}"
            ]
          },
          "metadata": {},
          "execution_count": 20
        }
      ]
    }
  ]
}